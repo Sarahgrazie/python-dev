{
 "cells": [
  {
   "cell_type": "code",
   "execution_count": 3,
   "metadata": {},
   "outputs": [
    {
     "name": "stdout",
     "output_type": "stream",
     "text": [
      "Hello World!!\n"
     ]
    }
   ],
   "source": [
    "a ='Hello World!!'\n",
    "print(a)"
   ]
  },
  {
   "cell_type": "code",
   "execution_count": 4,
   "metadata": {},
   "outputs": [
    {
     "data": {
      "text/plain": [
       "(3, 1.25, 27)"
      ]
     },
     "execution_count": 4,
     "metadata": {},
     "output_type": "execute_result"
    }
   ],
   "source": [
    "1+2, 3/2.4, 3*9\n"
   ]
  },
  {
   "cell_type": "code",
   "execution_count": 6,
   "metadata": {},
   "outputs": [
    {
     "data": {
      "text/plain": [
       "3"
      ]
     },
     "execution_count": 6,
     "metadata": {},
     "output_type": "execute_result"
    }
   ],
   "source": [
    "# 변수에 숫자 대입하고 계산하기 : 한줄 주석\n",
    "a = 1 # a변수 선언하고 대입\n",
    "b = 2 # b변수 선언하고 대입 \n",
    "a + b # 연산 처리 "
   ]
  },
  {
   "cell_type": "code",
   "execution_count": 8,
   "metadata": {},
   "outputs": [
    {
     "name": "stdout",
     "output_type": "stream",
     "text": [
      "hello\n"
     ]
    }
   ],
   "source": [
    "a =3\n",
    "# if(조건식){\n",
    "#     #true 일때 처리코드 \n",
    "# }\n",
    "if a>1: #:block start\n",
    "    print(\"hello\")\n"
   ]
  },
  {
   "cell_type": "code",
   "execution_count": 2,
   "metadata": {},
   "outputs": [],
   "source": [
    "ml='''\n",
    "Life is too short \n",
    "You need python \n",
    "'''\n",
    "def f1():\n",
    "    print('Hello')\n",
    "    "
   ]
  },
  {
   "cell_type": "code",
   "execution_count": 1,
   "metadata": {},
   "outputs": [],
   "source": [
    "number=10 \n",
    "day=3\n",
    "a= f\"I ate{number} apples. so i was sick for{day} days\""
   ]
  },
  {
   "cell_type": "code",
   "execution_count": 4,
   "metadata": {},
   "outputs": [
    {
     "data": {
      "text/plain": [
       "[1, 'a', 'b', 'c', 4]"
      ]
     },
     "execution_count": 4,
     "metadata": {},
     "output_type": "execute_result"
    }
   ],
   "source": [
    "a=[1,2,4]\n",
    "#a[1]=['a','b','c']\n",
    "a[1:2] =['a','b','c']\n",
    "a"
   ]
  },
  {
   "cell_type": "code",
   "execution_count": 8,
   "metadata": {},
   "outputs": [
    {
     "data": {
      "text/plain": [
       "[4, 3, 2, 1]"
      ]
     },
     "execution_count": 8,
     "metadata": {},
     "output_type": "execute_result"
    }
   ],
   "source": [
    "a=[1,4,3,2]\n",
    "a.sort(reverse=True)\n",
    "a\n"
   ]
  },
  {
   "cell_type": "code",
   "execution_count": 9,
   "metadata": {},
   "outputs": [
    {
     "data": {
      "text/plain": [
       "[1, 2, 1, 2, 3]"
      ]
     },
     "execution_count": 9,
     "metadata": {},
     "output_type": "execute_result"
    }
   ],
   "source": [
    "a =[1,2,3,1,2,3,]\n",
    "a.remove(3)\n",
    "a"
   ]
  },
  {
   "cell_type": "code",
   "execution_count": 10,
   "metadata": {},
   "outputs": [
    {
     "name": "stdout",
     "output_type": "stream",
     "text": [
      "[1, 2] 3\n"
     ]
    }
   ],
   "source": [
    "a=[1,2,3]\n",
    "b= a.pop() #para 없을경우 맨 뒤에서 추출\n",
    "print(a,b)"
   ]
  },
  {
   "cell_type": "code",
   "execution_count": 12,
   "metadata": {},
   "outputs": [
    {
     "data": {
      "text/plain": [
       "2"
      ]
     },
     "execution_count": 12,
     "metadata": {},
     "output_type": "execute_result"
    }
   ],
   "source": [
    "a = [1,2,3]\n",
    "a.pop(1)"
   ]
  },
  {
   "cell_type": "code",
   "execution_count": 13,
   "metadata": {},
   "outputs": [
    {
     "data": {
      "text/plain": [
       "[1, 2, 3, 4, 5]"
      ]
     },
     "execution_count": 13,
     "metadata": {},
     "output_type": "execute_result"
    }
   ],
   "source": [
    "a=[1,2,3]\n",
    "#a.append([4,5]) #[1,2,3,[4,5]]\n",
    "a.extend([4,5]) #[1,2,3,4,5]\n",
    "a"
   ]
  },
  {
   "cell_type": "markdown",
   "metadata": {},
   "source": []
  },
  {
   "cell_type": "code",
   "execution_count": 22,
   "metadata": {},
   "outputs": [
    {
     "data": {
      "text/plain": [
       "'i ate10 apples. so l was sick for 3 days.'"
      ]
     },
     "execution_count": 22,
     "metadata": {},
     "output_type": "execute_result"
    }
   ],
   "source": [
    "\"i ate{number} apples. so l was sick for {day} days.\".format(number=10, day=3)"
   ]
  },
  {
   "cell_type": "code",
   "execution_count": 28,
   "metadata": {},
   "outputs": [
    {
     "data": {
      "text/plain": [
       "'!!!!hi!!!!'"
      ]
     },
     "execution_count": 28,
     "metadata": {},
     "output_type": "execute_result"
    }
   ],
   "source": [
    "\"{0:!^10}\".format(\"hi\")"
   ]
  },
  {
   "cell_type": "code",
   "execution_count": 30,
   "metadata": {},
   "outputs": [
    {
     "data": {
      "text/plain": [
       "'    3.1235'"
      ]
     },
     "execution_count": 30,
     "metadata": {},
     "output_type": "execute_result"
    }
   ],
   "source": [
    "y=3.123456\n",
    "\"{0:10.4f}\".format(y)\n"
   ]
  },
  {
   "cell_type": "code",
   "execution_count": 32,
   "metadata": {},
   "outputs": [
    {
     "data": {
      "text/plain": [
       "[4, 3, 2, 1]"
      ]
     },
     "execution_count": 32,
     "metadata": {},
     "output_type": "execute_result"
    }
   ],
   "source": [
    "a=[1,4,3,2]\n",
    "a.sort(reverse=True)\n",
    "a"
   ]
  },
  {
   "cell_type": "code",
   "execution_count": 35,
   "metadata": {},
   "outputs": [
    {
     "data": {
      "text/plain": [
       "['c', 'b', 'a']"
      ]
     },
     "execution_count": 35,
     "metadata": {},
     "output_type": "execute_result"
    }
   ],
   "source": [
    "a=['a','b','c']\n",
    "a.reverse()\n",
    "a"
   ]
  },
  {
   "cell_type": "code",
   "execution_count": 38,
   "metadata": {},
   "outputs": [
    {
     "data": {
      "text/plain": [
       "2"
      ]
     },
     "execution_count": 38,
     "metadata": {},
     "output_type": "execute_result"
    }
   ],
   "source": [
    "a=[1,2,3]\n",
    "a.index(3)"
   ]
  },
  {
   "cell_type": "code",
   "execution_count": 41,
   "metadata": {},
   "outputs": [
    {
     "data": {
      "text/plain": [
       "[4, 1, 2, 3]"
      ]
     },
     "execution_count": 41,
     "metadata": {},
     "output_type": "execute_result"
    }
   ],
   "source": [
    "a=[1,2,3]\n",
    "a.insert(0,4)\n",
    "a\n"
   ]
  },
  {
   "cell_type": "code",
   "execution_count": 44,
   "metadata": {},
   "outputs": [
    {
     "data": {
      "text/plain": [
       "[1, 2, 1, 2, 3]"
      ]
     },
     "execution_count": 44,
     "metadata": {},
     "output_type": "execute_result"
    }
   ],
   "source": [
    "a= [1,2,3,1,2,3]\n",
    "a.remove(3)\n",
    "a\n"
   ]
  },
  {
   "cell_type": "code",
   "execution_count": 47,
   "metadata": {},
   "outputs": [
    {
     "data": {
      "text/plain": [
       "2"
      ]
     },
     "execution_count": 47,
     "metadata": {},
     "output_type": "execute_result"
    }
   ],
   "source": [
    "a= [1,2,3,1]\n",
    "a.count(1)"
   ]
  },
  {
   "cell_type": "code",
   "execution_count": 35,
   "metadata": {},
   "outputs": [],
   "source": [
    "class Service:                        #11232023\n",
    "    #클래스 변수 선 purpose:  All obj shere!\n",
    "    secret = \"영구는 외계인이다\"\n",
    "    #메소드 선언: self가 있는 메소드 = obc 접근 가능한 메소드 \n",
    "    \n",
    "    #생성자 처리 =>(Service '홍길동')   //두 줄 매우 중요   // obj 생성 시 값을 부여하고 싶을 때 사용 한다.\n",
    "    #method 처리 \n",
    "    def setName(self, name): #name 받아서 초기화\n",
    "        #self.name    obj안에 name 공간 생성 \n",
    "        self.name = name    #member, 객체변수  자체적으로 Attribute이다 \n",
    "# get, set할수 있는 변수:Attribute\n",
    "\n",
    "def sum(self, a:int, b:int): #제공되는 서비스\n",
    "    result = a +b\n",
    "    print(f'{self.name}님 {a} + {b} ={result}입니다.')"
   ]
  },
  {
   "cell_type": "code",
   "execution_count": 36,
   "metadata": {},
   "outputs": [
    {
     "ename": "AttributeError",
     "evalue": "'Service' object has no attribute 'sum'",
     "output_type": "error",
     "traceback": [
      "\u001b[1;31m---------------------------------------------------------------------------\u001b[0m",
      "\u001b[1;31mAttributeError\u001b[0m                            Traceback (most recent call last)",
      "\u001b[1;32mc:\\Education\\python_dev\\test.ipynb Cell 24\u001b[0m line \u001b[0;36m5\n\u001b[0;32m      <a href='vscode-notebook-cell:/c%3A/Education/python_dev/test.ipynb#X32sZmlsZQ%3D%3D?line=1'>2</a>\u001b[0m park \u001b[39m=\u001b[39m Service()   \u001b[39m# kim, park obj 생성 \u001b[39;00m\n\u001b[0;32m      <a href='vscode-notebook-cell:/c%3A/Education/python_dev/test.ipynb#X32sZmlsZQ%3D%3D?line=3'>4</a>\u001b[0m kim\u001b[39m.\u001b[39msetName(\u001b[39m'\u001b[39m\u001b[39m홍길동\u001b[39m\u001b[39m'\u001b[39m)\n\u001b[1;32m----> <a href='vscode-notebook-cell:/c%3A/Education/python_dev/test.ipynb#X32sZmlsZQ%3D%3D?line=4'>5</a>\u001b[0m kim\u001b[39m.\u001b[39;49msum(\u001b[39m1\u001b[39m,\u001b[39m1\u001b[39m)\n\u001b[0;32m      <a href='vscode-notebook-cell:/c%3A/Education/python_dev/test.ipynb#X32sZmlsZQ%3D%3D?line=5'>6</a>\u001b[0m kim\u001b[39m.\u001b[39mname \u001b[39m=\u001b[39m\u001b[39m'\u001b[39m\u001b[39m김길동\u001b[39m\u001b[39m'\u001b[39m\n\u001b[0;32m      <a href='vscode-notebook-cell:/c%3A/Education/python_dev/test.ipynb#X32sZmlsZQ%3D%3D?line=6'>7</a>\u001b[0m kim\u001b[39m.\u001b[39msum(\u001b[39m1\u001b[39m,\u001b[39m1\u001b[39m)\n",
      "\u001b[1;31mAttributeError\u001b[0m: 'Service' object has no attribute 'sum'"
     ]
    }
   ],
   "source": [
    "kim = Service()# name space\n",
    "park = Service()   # kim, park obj 생성 \n",
    "\n",
    "kim.setName('홍길동')\n",
    "kim.sum(1,1)\n",
    "kim.name ='김길동'\n",
    "kim.sum(1,1)\n"
   ]
  },
  {
   "cell_type": "code",
   "execution_count": 14,
   "metadata": {},
   "outputs": [],
   "source": [
    "class Service:\n",
    "    pass"
   ]
  },
  {
   "cell_type": "code",
   "execution_count": 15,
   "metadata": {},
   "outputs": [
    {
     "name": "stdout",
     "output_type": "stream",
     "text": [
      "김철수\n",
      "박응용\n"
     ]
    }
   ],
   "source": [
    "kim = Service()  #empty obj 생성 \n",
    "park = Service()\n",
    "kim.name ='김철수'\n",
    "park.name = '박응용'\n",
    "print(kim.name)\n",
    "print(park.name)"
   ]
  },
  {
   "cell_type": "code",
   "execution_count": 22,
   "metadata": {},
   "outputs": [
    {
     "ename": "AttributeError",
     "evalue": "'Service' object has no attribute 'sum'",
     "output_type": "error",
     "traceback": [
      "\u001b[1;31m---------------------------------------------------------------------------\u001b[0m",
      "\u001b[1;31mAttributeError\u001b[0m                            Traceback (most recent call last)",
      "\u001b[1;32mc:\\Education\\python_dev\\test.ipynb Cell 27\u001b[0m line \u001b[0;36m3\n\u001b[0;32m      <a href='vscode-notebook-cell:/c%3A/Education/python_dev/test.ipynb#X40sZmlsZQ%3D%3D?line=0'>1</a>\u001b[0m \u001b[39m# obj 생성할 때 name 생성 후 초기화 했으면 에러가 발생되지 않을 것이다.\u001b[39;00m\n\u001b[0;32m      <a href='vscode-notebook-cell:/c%3A/Education/python_dev/test.ipynb#X40sZmlsZQ%3D%3D?line=1'>2</a>\u001b[0m babo \u001b[39m=\u001b[39m Service(\u001b[39m'\u001b[39m\u001b[39m홍길동\u001b[39m\u001b[39m'\u001b[39m)\n\u001b[1;32m----> <a href='vscode-notebook-cell:/c%3A/Education/python_dev/test.ipynb#X40sZmlsZQ%3D%3D?line=2'>3</a>\u001b[0m babo\u001b[39m.\u001b[39;49msum(\u001b[39m1\u001b[39m,\u001b[39m1\u001b[39m)\n\u001b[0;32m      <a href='vscode-notebook-cell:/c%3A/Education/python_dev/test.ipynb#X40sZmlsZQ%3D%3D?line=3'>4</a>\u001b[0m babo\u001b[39m.\u001b[39msetName(\u001b[39m'\u001b[39m\u001b[39mbabo\u001b[39m\u001b[39m'\u001b[39m)\n\u001b[0;32m      <a href='vscode-notebook-cell:/c%3A/Education/python_dev/test.ipynb#X40sZmlsZQ%3D%3D?line=4'>5</a>\u001b[0m babo\u001b[39m.\u001b[39msum(\u001b[39m1\u001b[39m,\u001b[39m1\u001b[39m)\n",
      "\u001b[1;31mAttributeError\u001b[0m: 'Service' object has no attribute 'sum'"
     ]
    }
   ],
   "source": [
    "# obj 생성할 때 name 생성 후 초기화 했으면 에러가 발생되지 않을 것이다.\n",
    "babo = Service('홍길동')\n",
    "babo.sum(1,1)\n",
    "babo.setName('babo')\n",
    "babo.sum(1,1)"
   ]
  },
  {
   "cell_type": "code",
   "execution_count": 38,
   "metadata": {},
   "outputs": [
    {
     "ename": "IndentationError",
     "evalue": "unindent does not match any outer indentation level (<tokenize>, line 6)",
     "output_type": "error",
     "traceback": [
      "\u001b[1;36m  File \u001b[1;32m<tokenize>:6\u001b[1;36m\u001b[0m\n\u001b[1;33m    def sum(self):\u001b[0m\n\u001b[1;37m    ^\u001b[0m\n\u001b[1;31mIndentationError\u001b[0m\u001b[1;31m:\u001b[0m unindent does not match any outer indentation level\n"
     ]
    }
   ],
   "source": [
    "# 사칙연산 클래스 만들기: class: 틀  1) 상속할 수 있고 2)다양한 형태로 이용할 수 있다.\n",
    "class FourCal: \n",
    "     def setData(self, first, second):\n",
    "        self.first = first\n",
    "        self.second = second\n",
    "    def sum(self):\n",
    "        return self.first + self.second\n",
    "    def sub(self): #-\n",
    "        return self.first - self.second"
   ]
  },
  {
   "cell_type": "code",
   "execution_count": 30,
   "metadata": {},
   "outputs": [
    {
     "ename": "NameError",
     "evalue": "name 'FourCal' is not defined",
     "output_type": "error",
     "traceback": [
      "\u001b[1;31m---------------------------------------------------------------------------\u001b[0m",
      "\u001b[1;31mNameError\u001b[0m                                 Traceback (most recent call last)",
      "\u001b[1;32mc:\\Education\\python_dev\\test.ipynb Cell 29\u001b[0m line \u001b[0;36m1\n\u001b[1;32m----> <a href='vscode-notebook-cell:/c%3A/Education/python_dev/test.ipynb#X35sZmlsZQ%3D%3D?line=0'>1</a>\u001b[0m kim \u001b[39m=\u001b[39m FourCal\n\u001b[0;32m      <a href='vscode-notebook-cell:/c%3A/Education/python_dev/test.ipynb#X35sZmlsZQ%3D%3D?line=1'>2</a>\u001b[0m kim\u001b[39m.\u001b[39msetData(\u001b[39m4\u001b[39m,\u001b[39m2\u001b[39m)\n\u001b[0;32m      <a href='vscode-notebook-cell:/c%3A/Education/python_dev/test.ipynb#X35sZmlsZQ%3D%3D?line=2'>3</a>\u001b[0m kim\u001b[39m.\u001b[39msum()\n",
      "\u001b[1;31mNameError\u001b[0m: name 'FourCal' is not defined"
     ]
    }
   ],
   "source": [
    "kim = FourCal()\n",
    "kim.setData(4,2)\n",
    "kim.sum(), kim.__sub()"
   ]
  },
  {
   "cell_type": "code",
   "execution_count": 31,
   "metadata": {},
   "outputs": [
    {
     "ename": "NameError",
     "evalue": "name 'FourCal' is not defined",
     "output_type": "error",
     "traceback": [
      "\u001b[1;31m---------------------------------------------------------------------------\u001b[0m",
      "\u001b[1;31mNameError\u001b[0m                                 Traceback (most recent call last)",
      "\u001b[1;32mc:\\Education\\python_dev\\test.ipynb Cell 30\u001b[0m line \u001b[0;36m1\n\u001b[1;32m----> <a href='vscode-notebook-cell:/c%3A/Education/python_dev/test.ipynb#X41sZmlsZQ%3D%3D?line=0'>1</a>\u001b[0m kim \u001b[39m=\u001b[39mFourCal\n\u001b[0;32m      <a href='vscode-notebook-cell:/c%3A/Education/python_dev/test.ipynb#X41sZmlsZQ%3D%3D?line=1'>2</a>\u001b[0m FourCal\u001b[39m.\u001b[39msetData(kim,\u001b[39m4\u001b[39m,\u001b[39m2\u001b[39m,)\n\u001b[0;32m      <a href='vscode-notebook-cell:/c%3A/Education/python_dev/test.ipynb#X41sZmlsZQ%3D%3D?line=2'>3</a>\u001b[0m FourCal\u001b[39m.\u001b[39msum(kim)\n",
      "\u001b[1;31mNameError\u001b[0m: name 'FourCal' is not defined"
     ]
    }
   ],
   "source": [
    "kim =FourCal\n",
    "FourCal.setData(kim,4,2,)\n",
    "FourCal.sum(kim)"
   ]
  },
  {
   "cell_type": "markdown",
   "metadata": {},
   "source": []
  },
  {
   "cell_type": "code",
   "execution_count": null,
   "metadata": {},
   "outputs": [],
   "source": [
    "# 박씨네 집 클래스 만들기 \n",
    "class HousePark:\n",
    "    lastName = '박'  # 모두 박씨\n",
    "    def__init__(self,name) ->None:\n",
    "    def setName(self, name):\n",
    "        self.fulName = HousePark.lastName + name \n",
    "    def travel(self, where):\n",
    "        print('f{self.fulName}이 {where}로 여행을 가다')\n"
   ]
  },
  {
   "cell_type": "code",
   "execution_count": null,
   "metadata": {},
   "outputs": [],
   "source": [
    "pey = HousePark ()\n",
    "pey.setName('응용')\n",
    "pes = HousePark ()\n",
    "pes.setName('응수')\n",
    "print(pey.fullName)\n",
    "print(pes.fullName)"
   ]
  },
  {
   "cell_type": "code",
   "execution_count": 33,
   "metadata": {},
   "outputs": [
    {
     "ename": "NameError",
     "evalue": "name 'HousePark' is not defined",
     "output_type": "error",
     "traceback": [
      "\u001b[1;31m---------------------------------------------------------------------------\u001b[0m",
      "\u001b[1;31mNameError\u001b[0m                                 Traceback (most recent call last)",
      "\u001b[1;32mc:\\Education\\python_dev\\test.ipynb Cell 34\u001b[0m line \u001b[0;36m1\n\u001b[1;32m----> <a href='vscode-notebook-cell:/c%3A/Education/python_dev/test.ipynb#X44sZmlsZQ%3D%3D?line=0'>1</a>\u001b[0m pey \u001b[39m=\u001b[39m HousePark()\n\u001b[0;32m      <a href='vscode-notebook-cell:/c%3A/Education/python_dev/test.ipynb#X44sZmlsZQ%3D%3D?line=1'>2</a>\u001b[0m pey\u001b[39m.\u001b[39msetName(\u001b[39m'\u001b[39m\u001b[39m응용\u001b[39m\u001b[39m'\u001b[39m)\n\u001b[0;32m      <a href='vscode-notebook-cell:/c%3A/Education/python_dev/test.ipynb#X44sZmlsZQ%3D%3D?line=2'>3</a>\u001b[0m \u001b[39mprint\u001b[39m(pey\u001b[39m.\u001b[39mtravel(where\u001b[39m=\u001b[39m\u001b[39m'\u001b[39m\u001b[39m부산\u001b[39m\u001b[39m'\u001b[39m))\n",
      "\u001b[1;31mNameError\u001b[0m: name 'HousePark' is not defined"
     ]
    }
   ],
   "source": [
    "pey = HousePark()\n",
    "pey.setName('응용')\n",
    "print(pey.travel(where='부산'))   #모든me ret값 들어감"
   ]
  },
  {
   "cell_type": "code",
   "execution_count": null,
   "metadata": {},
   "outputs": [],
   "source": []
  }
 ],
 "metadata": {
  "kernelspec": {
   "display_name": "test",
   "language": "python",
   "name": "test"
  },
  "language_info": {
   "codemirror_mode": {
    "name": "ipython",
    "version": 3
   },
   "file_extension": ".py",
   "mimetype": "text/x-python",
   "name": "python",
   "nbconvert_exporter": "python",
   "pygments_lexer": "ipython3",
   "version": "3.9.18"
  }
 },
 "nbformat": 4,
 "nbformat_minor": 2
}
