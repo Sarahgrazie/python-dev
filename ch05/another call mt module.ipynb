{
 "cells": [
  {
   "cell_type": "code",
   "execution_count": 1,
   "metadata": {},
   "outputs": [],
   "source": [
    "#module position check\n",
    "import sys"
   ]
  },
  {
   "cell_type": "code",
   "execution_count": 2,
   "metadata": {},
   "outputs": [
    {
     "data": {
      "text/plain": [
       "['c:\\\\Education\\\\python_dev\\\\ch05',\n",
       " 'c:\\\\ProgramData\\\\anaconda3\\\\envs\\\\test\\\\python39.zip',\n",
       " 'c:\\\\ProgramData\\\\anaconda3\\\\envs\\\\test\\\\DLLs',\n",
       " 'c:\\\\ProgramData\\\\anaconda3\\\\envs\\\\test\\\\lib',\n",
       " 'c:\\\\ProgramData\\\\anaconda3\\\\envs\\\\test',\n",
       " '',\n",
       " 'c:\\\\ProgramData\\\\anaconda3\\\\envs\\\\test\\\\lib\\\\site-packages',\n",
       " 'c:\\\\ProgramData\\\\anaconda3\\\\envs\\\\test\\\\lib\\\\site-packages\\\\win32',\n",
       " 'c:\\\\ProgramData\\\\anaconda3\\\\envs\\\\test\\\\lib\\\\site-packages\\\\win32\\\\lib',\n",
       " 'c:\\\\ProgramData\\\\anaconda3\\\\envs\\\\test\\\\lib\\\\site-packages\\\\Pythonwin']"
      ]
     },
     "execution_count": 2,
     "metadata": {},
     "output_type": "execute_result"
    }
   ],
   "source": [
    "sys.path # module 등록 저장 리스트 "
   ]
  },
  {
   "cell_type": "code",
   "execution_count": null,
   "metadata": {},
   "outputs": [],
   "source": []
  }
 ],
 "metadata": {
  "kernelspec": {
   "display_name": "test",
   "language": "python",
   "name": "test"
  },
  "language_info": {
   "codemirror_mode": {
    "name": "ipython",
    "version": 3
   },
   "file_extension": ".py",
   "mimetype": "text/x-python",
   "name": "python",
   "nbconvert_exporter": "python",
   "pygments_lexer": "ipython3",
   "version": "3.9.18"
  }
 },
 "nbformat": 4,
 "nbformat_minor": 2
}
