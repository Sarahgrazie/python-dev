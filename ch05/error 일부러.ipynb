{
 "cells": [
  {
   "cell_type": "code",
   "execution_count": 9,
   "metadata": {},
   "outputs": [],
   "source": [
    "class Bird:\n",
    "    def fly(self):\n",
    "        print('flying')"
   ]
  },
  {
   "cell_type": "code",
   "execution_count": 14,
   "metadata": {},
   "outputs": [],
   "source": [
    "class Eagle(Bird): # bird 상속 \n",
    "    def fly(self):\n",
    "        print('So rapidly')"
   ]
  },
  {
   "cell_type": "code",
   "execution_count": 16,
   "metadata": {},
   "outputs": [],
   "source": [
    "class Chicken(Bird):\n",
    "    def fly(self):\n",
    "        print('Am I fly?')"
   ]
  },
  {
   "cell_type": "code",
   "execution_count": 26,
   "metadata": {},
   "outputs": [],
   "source": [
    "class Penguin(Bird):\n",
    "    def fly(self):\n",
    "        print('I can not fly!')"
   ]
  },
  {
   "cell_type": "code",
   "execution_count": 27,
   "metadata": {},
   "outputs": [
    {
     "name": "stdout",
     "output_type": "stream",
     "text": [
      "So rapidly\n",
      "Am I fly?\n",
      "I can not fly!\n"
     ]
    }
   ],
   "source": [
    "eagle = Eagle()\n",
    "chicken = Chicken()\n",
    "penguin = Penguin()\n",
    "eagle.fly()\n",
    "chicken.fly()\n",
    "penguin.fly()"
   ]
  },
  {
   "cell_type": "code",
   "execution_count": 28,
   "metadata": {},
   "outputs": [],
   "source": [
    "#errorclass \n",
    "class MyError(Exception):\n",
    "    pass"
   ]
  },
  {
   "cell_type": "code",
   "execution_count": 29,
   "metadata": {},
   "outputs": [],
   "source": [
    "def say_nick(nick):\n",
    "    if nick == '바보':\n",
    "        raise MyError\n",
    "    print(nick)"
   ]
  },
  {
   "cell_type": "code",
   "execution_count": 35,
   "metadata": {},
   "outputs": [
    {
     "name": "stdout",
     "output_type": "stream",
     "text": [
      "Do not be angry!\n"
     ]
    }
   ],
   "source": [
    "try:\n",
    "    say_nick('바보')                 # 좋은 코드임\n",
    "except MyError:\n",
    "    print('Do not be angry!')\n"
   ]
  },
  {
   "cell_type": "code",
   "execution_count": 41,
   "metadata": {},
   "outputs": [],
   "source": [
    "class KrsDataError(Exception):\n",
    "    def __init__(self, msg) -> None:\n",
    "        self.msg = msg\n",
    "    def __str__(self) -> str:   #toString() 동일 가능\n",
    "        return self.msg"
   ]
  },
  {
   "cell_type": "code",
   "execution_count": 47,
   "metadata": {},
   "outputs": [],
   "source": [
    "def getKrxData(code): # 한국거래소 데이터 수집 함수\n",
    "    if code == '000000': # code 종목 코드\n",
    "        raise KrxDataError('한국거래소 종목코드 에러')\n",
    "    elif code =='000010':\n",
    "        raise KrxDataError(code +' :해당 종목 코드없음')\n",
    "    else: \n",
    "        print('종목코드 : ',code)"
   ]
  },
  {
   "cell_type": "code",
   "execution_count": 48,
   "metadata": {},
   "outputs": [
    {
     "ename": "NameError",
     "evalue": "name 'KrxDataError' is not defined",
     "output_type": "error",
     "traceback": [
      "\u001b[1;31m---------------------------------------------------------------------------\u001b[0m",
      "\u001b[1;31mNameError\u001b[0m                                 Traceback (most recent call last)",
      "\u001b[1;32mc:\\Education\\python_dev\\ch05\\error 일부러.ipynb Cell 11\u001b[0m line \u001b[0;36m1\n\u001b[1;32m----> <a href='vscode-notebook-cell:/c%3A/Education/python_dev/ch05/error%20%EC%9D%BC%EB%B6%80%EB%9F%AC.ipynb#X13sZmlsZQ%3D%3D?line=0'>1</a>\u001b[0m getKrxData(\u001b[39m'\u001b[39;49m\u001b[39m000010\u001b[39;49m\u001b[39m'\u001b[39;49m)\n",
      "\u001b[1;32mc:\\Education\\python_dev\\ch05\\error 일부러.ipynb Cell 11\u001b[0m line \u001b[0;36m5\n\u001b[0;32m      <a href='vscode-notebook-cell:/c%3A/Education/python_dev/ch05/error%20%EC%9D%BC%EB%B6%80%EB%9F%AC.ipynb#X13sZmlsZQ%3D%3D?line=2'>3</a>\u001b[0m     \u001b[39mraise\u001b[39;00m KrxDataError(\u001b[39m'\u001b[39m\u001b[39m한국거래소 종목코드 에러\u001b[39m\u001b[39m'\u001b[39m)\n\u001b[0;32m      <a href='vscode-notebook-cell:/c%3A/Education/python_dev/ch05/error%20%EC%9D%BC%EB%B6%80%EB%9F%AC.ipynb#X13sZmlsZQ%3D%3D?line=3'>4</a>\u001b[0m \u001b[39melif\u001b[39;00m code \u001b[39m==\u001b[39m\u001b[39m'\u001b[39m\u001b[39m000010\u001b[39m\u001b[39m'\u001b[39m:\n\u001b[1;32m----> <a href='vscode-notebook-cell:/c%3A/Education/python_dev/ch05/error%20%EC%9D%BC%EB%B6%80%EB%9F%AC.ipynb#X13sZmlsZQ%3D%3D?line=4'>5</a>\u001b[0m     \u001b[39mraise\u001b[39;00m KrxDataError(code \u001b[39m+\u001b[39m\u001b[39m'\u001b[39m\u001b[39m :해당 종목 코드없음\u001b[39m\u001b[39m'\u001b[39m)\n\u001b[0;32m      <a href='vscode-notebook-cell:/c%3A/Education/python_dev/ch05/error%20%EC%9D%BC%EB%B6%80%EB%9F%AC.ipynb#X13sZmlsZQ%3D%3D?line=5'>6</a>\u001b[0m \u001b[39melse\u001b[39;00m: \n\u001b[0;32m      <a href='vscode-notebook-cell:/c%3A/Education/python_dev/ch05/error%20%EC%9D%BC%EB%B6%80%EB%9F%AC.ipynb#X13sZmlsZQ%3D%3D?line=6'>7</a>\u001b[0m     \u001b[39mprint\u001b[39m(\u001b[39m'\u001b[39m\u001b[39m종목코드 : \u001b[39m\u001b[39m'\u001b[39m,code)\n",
      "\u001b[1;31mNameError\u001b[0m: name 'KrxDataError' is not defined"
     ]
    }
   ],
   "source": [
    "getKrxData('000010')"
   ]
  }
 ],
 "metadata": {
  "kernelspec": {
   "display_name": "test",
   "language": "python",
   "name": "test"
  },
  "language_info": {
   "codemirror_mode": {
    "name": "ipython",
    "version": 3
   },
   "file_extension": ".py",
   "mimetype": "text/x-python",
   "name": "python",
   "nbconvert_exporter": "python",
   "pygments_lexer": "ipython3",
   "version": "3.9.18"
  }
 },
 "nbformat": 4,
 "nbformat_minor": 2
}
