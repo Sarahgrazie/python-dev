{
 "cells": [
  {
   "cell_type": "code",
   "execution_count": 10,
   "metadata": {},
   "outputs": [],
   "source": [
    "class Service: \n",
    "    secret ='영구는 외계인이다' #자바에선 멤버변수 파이썬에선 클레스변수이다\n"
   ]
  },
  {
   "cell_type": "code",
   "execution_count": 13,
   "metadata": {},
   "outputs": [],
   "source": [
    "#클래스의 소유 = 클래스변수\n",
    "Service.secret = '영구는 도깨비다' "
   ]
  },
  {
   "cell_type": "code",
   "execution_count": 11,
   "metadata": {},
   "outputs": [
    {
     "name": "stdout",
     "output_type": "stream",
     "text": [
      "영구는 외계인이다\n",
      "영구는 외계인이다\n"
     ]
    }
   ],
   "source": [
    "pey = Service()\n",
    "kim = Service()\n",
    "print(pey.secret)      #share \n",
    "print(kim.secret)       #share"
   ]
  },
  {
   "cell_type": "code",
   "execution_count": 24,
   "metadata": {},
   "outputs": [],
   "source": [
    "#Class 내부의 함수(method)  플젝에 다시씀 뜯어서  외우렴\n",
    "class Service:  # class 만들 때 self 를 맨위에 선언을 해야한다.\n",
    "    secret = '영구는 외계인이다'   #static variable, 클레스 변수 \n",
    "    def func(): # static method                     class 메소드 (self가 빠지면 클레스 메소드)\n",
    "        print('func')\n",
    "        \n",
    "    def sum(self,a,b) : #Member method 선언 -- self를 통해서 변수 접근 할 수 있다.\n",
    "        result= a +b +3  # 지역변수 \n",
    "        self.result = a+ b  #멤버변수 \n",
    "        #print(f'{a} + {b} = {result}입니다.')   # 컨트롤 엔터:  여기까지 실행상태\n",
    "        print(f'{a} + {b} = {self.result}입니다.')   "
   ]
  }
 ],
 "metadata": {
  "kernelspec": {
   "display_name": "test",
   "language": "python",
   "name": "test"
  },
  "language_info": {
   "codemirror_mode": {
    "name": "ipython",
    "version": 3
   },
   "file_extension": ".py",
   "mimetype": "text/x-python",
   "name": "python",
   "nbconvert_exporter": "python",
   "pygments_lexer": "ipython3",
   "version": "3.9.18"
  }
 },
 "nbformat": 4,
 "nbformat_minor": 2
}
