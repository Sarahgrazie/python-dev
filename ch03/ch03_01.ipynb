{
 "cells": [
  {
   "cell_type": "code",
   "execution_count": 31,
   "metadata": {},
   "outputs": [
    {
     "name": "stdout",
     "output_type": "stream",
     "text": [
      "take\n"
     ]
    }
   ],
   "source": [
    "money =0\n",
    "if money:\n",
    "    print('taxi')\n",
    "\n",
    "print('take')"
   ]
  },
  {
   "cell_type": "code",
   "execution_count": 32,
   "metadata": {},
   "outputs": [
    {
     "name": "stdout",
     "output_type": "stream",
     "text": [
      "나무를 1번 찍었습니다.\n",
      "나무를 2번 찍었습니다.\n",
      "나무를 3번 찍었습니다.\n",
      "나무를 4번 찍었습니다.\n",
      "나무를 5번 찍었습니다.\n",
      "나무를 6번 찍었습니다.\n",
      "나무를 7번 찍었습니다.\n",
      "나무를 8번 찍었습니다.\n",
      "나무를 9번 찍었습니다.\n",
      "나무를 10번 찍었습니다.\n",
      "나무 넘어 갑니다\n"
     ]
    }
   ],
   "source": [
    "treeHit =0\n",
    "while treeHit <10:\n",
    "    treeHit += 1\n",
    "    print(f'나무를 {treeHit}번 찍었습니다.')\n",
    "    if treeHit ==10:\n",
    "        print('나무 넘어 갑니다')"
   ]
  },
  {
   "cell_type": "code",
   "execution_count": 33,
   "metadata": {},
   "outputs": [
    {
     "data": {
      "text/plain": [
       "1111"
      ]
     },
     "execution_count": 33,
     "metadata": {},
     "output_type": "execute_result"
    }
   ],
   "source": [
    "dic ={'name':'pey', 'phone':'01082304808','birth':1111}\n",
    "dic['birth']"
   ]
  },
  {
   "cell_type": "code",
   "execution_count": 34,
   "metadata": {},
   "outputs": [
    {
     "data": {
      "text/plain": [
       "1180"
      ]
     },
     "execution_count": 34,
     "metadata": {},
     "output_type": "execute_result"
    }
   ],
   "source": [
    "a ={'name':'pey','phone':'01000000000','birth':1180}\n",
    "a.get('birth')"
   ]
  },
  {
   "cell_type": "code",
   "execution_count": 35,
   "metadata": {},
   "outputs": [
    {
     "data": {
      "text/plain": [
       "False"
      ]
     },
     "execution_count": 35,
     "metadata": {},
     "output_type": "execute_result"
    }
   ],
   "source": [
    "a = {'name':'pey','phone':'01000000000','birth':'1182'}\n",
    "'address'in a "
   ]
  },
  {
   "cell_type": "code",
   "execution_count": 36,
   "metadata": {},
   "outputs": [
    {
     "data": {
      "text/plain": [
       "{1, 2, 3}"
      ]
     },
     "execution_count": 36,
     "metadata": {},
     "output_type": "execute_result"
    }
   ],
   "source": [
    "s1 = set([1,2,3])\n",
    "s1"
   ]
  },
  {
   "cell_type": "code",
   "execution_count": 37,
   "metadata": {},
   "outputs": [
    {
     "data": {
      "text/plain": [
       "{'H', 'e', 'l', 'o'}"
      ]
     },
     "execution_count": 37,
     "metadata": {},
     "output_type": "execute_result"
    }
   ],
   "source": [
    "s2 =set(\"Hello\")\n",
    "s2"
   ]
  },
  {
   "cell_type": "code",
   "execution_count": 38,
   "metadata": {},
   "outputs": [
    {
     "data": {
      "text/plain": [
       "{1, 3}"
      ]
     },
     "execution_count": 38,
     "metadata": {},
     "output_type": "execute_result"
    }
   ],
   "source": [
    "s1 =set([1,2,3,4,5,6])\n",
    "s2 =set([4,5,6,7,8,9])\n",
    "s1&s2\n",
    "\n",
    "s1.intersection(s2)\n",
    "\n",
    "s1|s2\n",
    "\n",
    "s1- s2\n",
    "\n",
    "s2-s1\n",
    "\n",
    "s1 =set([1,2,3])\n",
    "s1.update([4,5,6])\n",
    "s1\n",
    "\n",
    "s1 =set([1,2,3])\n",
    "s1.remove(2)\n",
    "s1"
   ]
  },
  {
   "cell_type": "code",
   "execution_count": 39,
   "metadata": {},
   "outputs": [
    {
     "name": "stdout",
     "output_type": "stream",
     "text": [
      "4\n",
      "3\n",
      "2\n",
      "1\n"
     ]
    }
   ],
   "source": [
    "a = [1,2,3,4]\n",
    "while a:\n",
    "    print(a.pop())\n",
    "    "
   ]
  },
  {
   "cell_type": "code",
   "execution_count": 40,
   "metadata": {},
   "outputs": [
    {
     "name": "stdout",
     "output_type": "stream",
     "text": [
      "True\n"
     ]
    }
   ],
   "source": [
    "if[1,2,3]:\n",
    "    print(\"True\")\n",
    "else:\n",
    "    print(\"False\")"
   ]
  },
  {
   "cell_type": "code",
   "execution_count": 41,
   "metadata": {},
   "outputs": [],
   "source": [
    "a=1\n",
    "b=\"python\"\n",
    "c=[1,2,3]"
   ]
  },
  {
   "cell_type": "code",
   "execution_count": 42,
   "metadata": {},
   "outputs": [
    {
     "data": {
      "text/plain": [
       "True"
      ]
     },
     "execution_count": 42,
     "metadata": {},
     "output_type": "execute_result"
    }
   ],
   "source": [
    "a=3\n",
    "b=3\n",
    "a is b"
   ]
  },
  {
   "cell_type": "code",
   "execution_count": 43,
   "metadata": {},
   "outputs": [],
   "source": [
    "a,b ='python', 'life'\n",
    "\n"
   ]
  },
  {
   "cell_type": "code",
   "execution_count": 44,
   "metadata": {},
   "outputs": [],
   "source": [
    "a=3\n",
    "b=3\n",
    "del(a)\n",
    "del(b)"
   ]
  },
  {
   "cell_type": "code",
   "execution_count": 45,
   "metadata": {},
   "outputs": [
    {
     "data": {
      "text/plain": [
       "[1, 4, 3]"
      ]
     },
     "execution_count": 45,
     "metadata": {},
     "output_type": "execute_result"
    }
   ],
   "source": [
    "a=[1,2,3]\n",
    "b = a\n",
    "a[1]=4\n",
    "a\n",
    "b"
   ]
  },
  {
   "cell_type": "code",
   "execution_count": 46,
   "metadata": {},
   "outputs": [
    {
     "data": {
      "text/plain": [
       "[1, 2, 3]"
      ]
     },
     "execution_count": 46,
     "metadata": {},
     "output_type": "execute_result"
    }
   ],
   "source": [
    "a=[1,2,3]\n",
    "b=a[:]\n",
    "a[1]=4\n",
    "a\n",
    "\n",
    "b"
   ]
  },
  {
   "cell_type": "code",
   "execution_count": 47,
   "metadata": {},
   "outputs": [
    {
     "data": {
      "text/plain": [
       "False"
      ]
     },
     "execution_count": 47,
     "metadata": {},
     "output_type": "execute_result"
    }
   ],
   "source": [
    "from copy import copy \n",
    "b = copy(a)\n",
    "\n",
    "b is a"
   ]
  },
  {
   "cell_type": "code",
   "execution_count": 48,
   "metadata": {},
   "outputs": [
    {
     "name": "stdout",
     "output_type": "stream",
     "text": [
      "you can just go work lol! \n"
     ]
    }
   ],
   "source": [
    "money =0\n",
    "if money: \n",
    "    print(\"take a texi\")\n",
    "else:\n",
    "    print(\"you can just go work lol! \")"
   ]
  },
  {
   "cell_type": "code",
   "execution_count": 49,
   "metadata": {},
   "outputs": [
    {
     "name": "stdout",
     "output_type": "stream",
     "text": [
      "you can just go work lol! \n"
     ]
    }
   ],
   "source": [
    "money =0\n",
    "if money: \n",
    "    print(\"take a texi\")\n",
    "print(\"you can just go work lol! \")"
   ]
  },
  {
   "cell_type": "code",
   "execution_count": 50,
   "metadata": {},
   "outputs": [
    {
     "data": {
      "text/plain": [
       "False"
      ]
     },
     "execution_count": 50,
     "metadata": {},
     "output_type": "execute_result"
    }
   ],
   "source": [
    "x=3\n",
    "y=2\n",
    "x>y\n",
    "\n",
    "y>x"
   ]
  },
  {
   "cell_type": "code",
   "execution_count": 51,
   "metadata": {},
   "outputs": [
    {
     "name": "stdout",
     "output_type": "stream",
     "text": [
      "you can please just work for yourself!\n"
     ]
    }
   ],
   "source": [
    "money = 2000\n",
    "if money >= 5000:\n",
    "    print(\"Take a texi\")\n",
    "else:\n",
    "    print(\"you can please just work for yourself!\")\n",
    "    "
   ]
  },
  {
   "cell_type": "code",
   "execution_count": 52,
   "metadata": {},
   "outputs": [
    {
     "name": "stdout",
     "output_type": "stream",
     "text": [
      "take a Texi\n"
     ]
    }
   ],
   "source": [
    "money = 2000\n",
    "card =1 \n",
    "if money >= 3000 or card:\n",
    "    print(\"take a Texi\")\n",
    "else:\n",
    "    print(\"work\")"
   ]
  },
  {
   "cell_type": "code",
   "execution_count": 53,
   "metadata": {},
   "outputs": [
    {
     "data": {
      "text/plain": [
       "False"
      ]
     },
     "execution_count": 53,
     "metadata": {},
     "output_type": "execute_result"
    }
   ],
   "source": [
    "1 in [1,2,3]\n",
    "\n",
    "4 in[1,2,3]\n",
    "\n",
    "1 not in [1,2,3]"
   ]
  },
  {
   "cell_type": "code",
   "execution_count": 54,
   "metadata": {},
   "outputs": [
    {
     "data": {
      "text/plain": [
       "True"
      ]
     },
     "execution_count": 54,
     "metadata": {},
     "output_type": "execute_result"
    }
   ],
   "source": [
    "'a' in('a','b','c')\n",
    "\n",
    "'j' not in ('a','b','c')"
   ]
  },
  {
   "cell_type": "code",
   "execution_count": 55,
   "metadata": {},
   "outputs": [],
   "source": [
    "pocket = ['paper','cellphone','money']\n",
    "if 'money' in pocket:\n",
    "    pass\n",
    "else:\n",
    "    print(\"open your debitCard\")"
   ]
  },
  {
   "cell_type": "code",
   "execution_count": 56,
   "metadata": {},
   "outputs": [
    {
     "name": "stdout",
     "output_type": "stream",
     "text": [
      "walk\n"
     ]
    }
   ],
   "source": [
    "pocket =['paper','cellphone']\n",
    "card=0\n",
    "if'money' in pocket:\n",
    "    print(\"take a texi\")\n",
    "else:\n",
    "    if card: \n",
    "        print(\"take a texi\")\n",
    "    else:\n",
    "        print(\"walk\")"
   ]
  },
  {
   "cell_type": "code",
   "execution_count": 57,
   "metadata": {},
   "outputs": [
    {
     "name": "stdout",
     "output_type": "stream",
     "text": [
      "나무를 1번 찍었습니다.\n",
      "나무를 2번 찍었습니다.\n",
      "나무를 3번 찍었습니다.\n",
      "나무를 4번 찍었습니다.\n",
      "나무를 5번 찍었습니다.\n",
      "나무를 6번 찍었습니다.\n",
      "나무를 7번 찍었습니다.\n",
      "나무를 8번 찍었습니다.\n",
      "나무를 9번 찍었습니다.\n",
      "나무를 10번 찍었습니다.\n",
      "나무 넘어가요~~~ \n"
     ]
    }
   ],
   "source": [
    "treeHit =0\n",
    "while treeHit<10:\n",
    "    treeHit +=1\n",
    "    print(f'나무를 {treeHit}번 찍었습니다.')\n",
    "    if treeHit ==10:\n",
    "        print('나무 넘어가요~~~ ')"
   ]
  },
  {
   "cell_type": "code",
   "execution_count": 58,
   "metadata": {},
   "outputs": [
    {
     "name": "stdout",
     "output_type": "stream",
     "text": [
      "[3]\n",
      "[3, 6]\n",
      "[3, 6, 9]\n",
      "[3, 6, 9, 12]\n"
     ]
    }
   ],
   "source": [
    "a= [1,2,3,4]\n",
    "result =[]\n",
    "for num in a:\n",
    "    result.append(num*3)\n",
    "    print(result)"
   ]
  },
  {
   "cell_type": "code",
   "execution_count": 59,
   "metadata": {},
   "outputs": [
    {
     "name": "stdout",
     "output_type": "stream",
     "text": [
      "[3, 6, 9, 12]\n"
     ]
    }
   ],
   "source": [
    "result =[num* 3 for num in a]  #내포된 for문\n",
    "print(result)"
   ]
  },
  {
   "cell_type": "code",
   "execution_count": 60,
   "metadata": {},
   "outputs": [
    {
     "name": "stdout",
     "output_type": "stream",
     "text": [
      "[3, 6, 9, 12]\n"
     ]
    }
   ],
   "source": [
    "a =range(1,10) # [1~100]\n",
    "# if even : *2  or odd *3\n",
    "\n",
    "#result = [num for num in a ]   [1-10]\n",
    "#result=[num *2 for num in a if num %2 ==0] [4,8,12,16]\n",
    "#result =[num *2 if num% 2 ==0 else num *3 for num in a]\n",
    "print(result)"
   ]
  },
  {
   "cell_type": "code",
   "execution_count": 25,
   "metadata": {},
   "outputs": [
    {
     "name": "stdout",
     "output_type": "stream",
     "text": [
      "[3, 4, 9, 8, 15, 12, 21, 16, 27]\n"
     ]
    }
   ],
   "source": [
    "a= range(1,10)\n",
    "result = [num *2 if num% 2 ==0 else num *3 for num in a]\n",
    "print(result)"
   ]
  },
  {
   "cell_type": "code",
   "execution_count": 61,
   "metadata": {},
   "outputs": [],
   "source": [
    "#sum function 선언\n",
    "def sum(*nums):\n",
    "    add = 0\n",
    "    for num in nums:\n",
    "        add+= num\n",
    "    return add"
   ]
  },
  {
   "cell_type": "code",
   "execution_count": 62,
   "metadata": {},
   "outputs": [
    {
     "data": {
      "text/plain": [
       "15"
      ]
     },
     "execution_count": 62,
     "metadata": {},
     "output_type": "execute_result"
    }
   ],
   "source": [
    "#함수 실행 \n",
    "sum(1,2,3,4,5)"
   ]
  },
  {
   "cell_type": "code",
   "execution_count": 63,
   "metadata": {},
   "outputs": [],
   "source": [
    "def sum_mul(choice, *args): # 가변인자는 맨 뒤로 가야 함\n",
    "    if choice == 'sum':   #가변인자가 앞에 있으면 error dt찾아야 함\n",
    "        result ==0\n",
    "        for num in args:\n",
    "            result += num\n",
    "    elif choice =='mul':\n",
    "        result =1 \n",
    "        for num in args:\n",
    "            result *= num\n",
    "        return result            "
   ]
  },
  {
   "cell_type": "code",
   "execution_count": 64,
   "metadata": {},
   "outputs": [
    {
     "data": {
      "text/plain": [
       "360"
      ]
     },
     "execution_count": 64,
     "metadata": {},
     "output_type": "execute_result"
    }
   ],
   "source": [
    "sum_mul('mul', 3,4,5,6,)"
   ]
  },
  {
   "cell_type": "code",
   "execution_count": 65,
   "metadata": {},
   "outputs": [],
   "source": [
    "def add(a:int,b:int)-> int: # 여기서 에러를 발생하게끔 하면 좋지 않을까?  2) 코딩 시 확인 가능 \n",
    "    return a+b  # 실행  -- 여기서 error 발생 "
   ]
  },
  {
   "cell_type": "code",
   "execution_count": 66,
   "metadata": {},
   "outputs": [
    {
     "data": {
      "text/plain": [
       "'1001ㅐㅐ'"
      ]
     },
     "execution_count": 66,
     "metadata": {},
     "output_type": "execute_result"
    }
   ],
   "source": [
    "add('100','1ㅐㅐ')"
   ]
  },
  {
   "cell_type": "code",
   "execution_count": 67,
   "metadata": {},
   "outputs": [],
   "source": [
    "def sum_and_mul(a,b):\n",
    "    return a+b, a*b"
   ]
  },
  {
   "cell_type": "code",
   "execution_count": 76,
   "metadata": {},
   "outputs": [
    {
     "name": "stdout",
     "output_type": "stream",
     "text": [
      "====================\n",
      "member add\n",
      "====================\n"
     ]
    }
   ],
   "source": [
    "#=============================\n",
    "# 회원추가(회원수정, 회원삭제)\n",
    "#=============================\n",
    "\n",
    "#decorator function 선언 \n",
    "def decorator(func):\n",
    "    def decorate ():\n",
    "        print('='*20)       #공통기능 여기서 로그인 처리 하면 되고 ???\n",
    "        func()                              # 이게 aop\n",
    "        print('='*20)      #공통기능  \n",
    "    return decorate                       #decro proxy pattern?\n",
    "\n",
    "@decorator\n",
    "def memberAdd():            # 핵심기능\n",
    "    print('member add')\n",
    "\n",
    "memberAdd()    \n",
    "\n",
    "\n",
    "@decorator \n",
    "def memberDelete():\n",
    "    print('member delete')\n",
    "    \n",
    "@decorator\n",
    "def memberUpdate():\n",
    "    print('member edit')    \n",
    "    "
   ]
  },
  {
   "cell_type": "code",
   "execution_count": 80,
   "metadata": {},
   "outputs": [
    {
     "name": "stdout",
     "output_type": "stream",
     "text": [
      "====================\n",
      "member add\n",
      "====================\n"
     ]
    }
   ],
   "source": [
    "memberAdd()"
   ]
  },
  {
   "cell_type": "code",
   "execution_count": 71,
   "metadata": {},
   "outputs": [
    {
     "name": "stdout",
     "output_type": "stream",
     "text": [
      "{'name': 'hong', 'age': 30}\n"
     ]
    }
   ],
   "source": [
    "#가변인자 * tuple  ** dict \n",
    "#data = {\n",
    "#    'name':'hong'\n",
    "#    'age': 30\n",
    "#    \n",
    "#}\n",
    "\n",
    "def contact(**kwargs): \n",
    "    print(kwargs)\n",
    "\n",
    "contact(name ='hong', age =30)"
   ]
  },
  {
   "cell_type": "code",
   "execution_count": 83,
   "metadata": {},
   "outputs": [
    {
     "name": "stdout",
     "output_type": "stream",
     "text": [
      "쵀ㅑ\n"
     ]
    }
   ],
   "source": [
    "a = input('이름을 입력하세요:')\n",
    "print(a)"
   ]
  },
  {
   "cell_type": "code",
   "execution_count": 88,
   "metadata": {},
   "outputs": [
    {
     "name": "stdout",
     "output_type": "stream",
     "text": [
      "1 2 3, 1 2 3 4 5 6 7\n"
     ]
    }
   ],
   "source": [
    "#print function\n",
    "print(1,2,3, end=', ')   # end defult 값: '\\n' => ','\n",
    "print(1,2,3,4,5,6,7)    "
   ]
  },
  {
   "cell_type": "code",
   "execution_count": 2,
   "metadata": {},
   "outputs": [
    {
     "name": "stdout",
     "output_type": "stream",
     "text": [
      "[1, 2, 3]\n"
     ]
    }
   ],
   "source": [
    "a= [1,2,3]\n",
    "print(a)"
   ]
  },
  {
   "cell_type": "code",
   "execution_count": 1,
   "metadata": {},
   "outputs": [
    {
     "ename": "NameError",
     "evalue": "name 'true' is not defined",
     "output_type": "error",
     "traceback": [
      "\u001b[1;31m---------------------------------------------------------------------------\u001b[0m",
      "\u001b[1;31mNameError\u001b[0m                                 Traceback (most recent call last)",
      "\u001b[1;32mc:\\Education\\python_dev\\ch03\\ch03_01.ipynb Cell 44\u001b[0m line \u001b[0;36m3\n\u001b[0;32m      <a href='vscode-notebook-cell:/c%3A/Education/python_dev/ch03/ch03_01.ipynb#X61sZmlsZQ%3D%3D?line=0'>1</a>\u001b[0m coffee \u001b[39m=\u001b[39m \u001b[39m10\u001b[39m\n\u001b[1;32m----> <a href='vscode-notebook-cell:/c%3A/Education/python_dev/ch03/ch03_01.ipynb#X61sZmlsZQ%3D%3D?line=2'>3</a>\u001b[0m \u001b[39mwhile\u001b[39;00m true:\n\u001b[0;32m      <a href='vscode-notebook-cell:/c%3A/Education/python_dev/ch03/ch03_01.ipynb#X61sZmlsZQ%3D%3D?line=3'>4</a>\u001b[0m     money \u001b[39m=\u001b[39m \u001b[39mint\u001b[39m(\u001b[39minput\u001b[39m(\u001b[39m\"\u001b[39m\u001b[39m돈을 넣어 주세요: \u001b[39m\u001b[39m\"\u001b[39m))\n\u001b[0;32m      <a href='vscode-notebook-cell:/c%3A/Education/python_dev/ch03/ch03_01.ipynb#X61sZmlsZQ%3D%3D?line=4'>5</a>\u001b[0m     \u001b[39mif\u001b[39;00m money \u001b[39m==\u001b[39m \u001b[39m300\u001b[39m:\n",
      "\u001b[1;31mNameError\u001b[0m: name 'true' is not defined"
     ]
    }
   ],
   "source": [
    "\n",
    "coffee = 10\n",
    "\n",
    "while true:\n",
    "    money = int(input(\"돈을 넣어 주세요: \"))\n",
    "    if money == 300:\n",
    "        print(\"커피를 줍니다.\")\n",
    "        coffee = coffee -1\n",
    "    elif money >300:\n",
    "        print(\"거스름돈 %d를 주고 커피를 줍니다.\" % (money -300))\n",
    "        coffee = coffee -1 \n",
    "    else: \n",
    "        print(\"돈을 다시 돌려주고 커피를 주지 않습니다.\")\n",
    "        print(\"남은 커피의 양은 %d개 입니다.\")\n",
    "    if not coffee:\n",
    "        print(\"커피가 다 떨어졌습니다. 판매를 중지 합니다.\")\n",
    "        break\n",
    "    print(coffee)"
   ]
  },
  {
   "cell_type": "markdown",
   "metadata": {},
   "source": []
  }
 ],
 "metadata": {
  "kernelspec": {
   "display_name": "test",
   "language": "python",
   "name": "test"
  },
  "language_info": {
   "codemirror_mode": {
    "name": "ipython",
    "version": 3
   },
   "file_extension": ".py",
   "mimetype": "text/x-python",
   "name": "python",
   "nbconvert_exporter": "python",
   "pygments_lexer": "ipython3",
   "version": "3.9.18"
  }
 },
 "nbformat": 4,
 "nbformat_minor": 2
}
